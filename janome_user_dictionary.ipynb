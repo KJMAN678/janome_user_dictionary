{
  "nbformat": 4,
  "nbformat_minor": 0,
  "metadata": {
    "colab": {
      "name": "Janome_user_dictionary.ipynb",
      "provenance": [],
      "collapsed_sections": []
    },
    "kernelspec": {
      "name": "python3",
      "display_name": "Python 3"
    },
    "language_info": {
      "name": "python"
    }
  },
  "cells": [
    {
      "cell_type": "code",
      "metadata": {
        "colab": {
          "base_uri": "https://localhost:8080/"
        },
        "id": "hIzQSxXrCYaw",
        "outputId": "e551a797-774e-44aa-de47-ce4a045ea62c"
      },
      "source": [
        "!pip install janome\n",
        "!pip install gspread"
      ],
      "execution_count": null,
      "outputs": [
        {
          "output_type": "stream",
          "text": [
            "Requirement already satisfied: janome in /usr/local/lib/python3.7/dist-packages (0.4.1)\n",
            "Requirement already satisfied: gspread in /usr/local/lib/python3.7/dist-packages (3.0.1)\n",
            "Requirement already satisfied: requests>=2.2.1 in /usr/local/lib/python3.7/dist-packages (from gspread) (2.23.0)\n",
            "Requirement already satisfied: chardet<4,>=3.0.2 in /usr/local/lib/python3.7/dist-packages (from requests>=2.2.1->gspread) (3.0.4)\n",
            "Requirement already satisfied: idna<3,>=2.5 in /usr/local/lib/python3.7/dist-packages (from requests>=2.2.1->gspread) (2.10)\n",
            "Requirement already satisfied: urllib3!=1.25.0,!=1.25.1,<1.26,>=1.21.1 in /usr/local/lib/python3.7/dist-packages (from requests>=2.2.1->gspread) (1.24.3)\n",
            "Requirement already satisfied: certifi>=2017.4.17 in /usr/local/lib/python3.7/dist-packages (from requests>=2.2.1->gspread) (2021.5.30)\n"
          ],
          "name": "stdout"
        }
      ]
    },
    {
      "cell_type": "code",
      "metadata": {
        "id": "CdExGexVHlpl"
      },
      "source": [
        "from google.colab import auth\n",
        "from oauth2client.client import GoogleCredentials\n",
        "import gspread"
      ],
      "execution_count": null,
      "outputs": []
    },
    {
      "cell_type": "code",
      "metadata": {
        "id": "wHXdrxICIKcE"
      },
      "source": [
        "# 対象のGoogle SpreadSheetのURLを添付\n",
        "ulr = \"https://docs.google.com/spreadsheets/d/xxxxxxxxxxxxxxxzz/edit#gid=0\"\n",
        " \n",
        "# URLからSpreadSheet の固有キーを取得\n",
        "key = ulr.split(\"/\")[5]"
      ],
      "execution_count": null,
      "outputs": []
    },
    {
      "cell_type": "code",
      "metadata": {
        "colab": {
          "base_uri": "https://localhost:8080/",
          "height": 143
        },
        "id": "DMa5WQphHmqT",
        "outputId": "a701c0aa-25ea-452f-e505-5b2df5060f64"
      },
      "source": [
        "# 認証処理\n",
        "auth.authenticate_user()\n",
        "gc = gspread.authorize(GoogleCredentials.get_application_default())\n",
        " \n",
        "# Google SpreadSheet からデータを取得\n",
        "sh = gc.open_by_key(key)\n",
        "worksheet = sh.get_worksheet(0)\n",
        " \n",
        "# DataFrameに変換\n",
        "df = pd.DataFrame(worksheet.get_all_values())\n",
        " \n",
        "display(df)\n",
        " \n",
        "# csvとして保存\n",
        "df.to_csv(\"user_dictionary.csv\", header=False, index=False)"
      ],
      "execution_count": null,
      "outputs": [
        {
          "output_type": "display_data",
          "data": {
            "text/html": [
              "<div>\n",
              "<style scoped>\n",
              "    .dataframe tbody tr th:only-of-type {\n",
              "        vertical-align: middle;\n",
              "    }\n",
              "\n",
              "    .dataframe tbody tr th {\n",
              "        vertical-align: top;\n",
              "    }\n",
              "\n",
              "    .dataframe thead th {\n",
              "        text-align: right;\n",
              "    }\n",
              "</style>\n",
              "<table border=\"1\" class=\"dataframe\">\n",
              "  <thead>\n",
              "    <tr style=\"text-align: right;\">\n",
              "      <th></th>\n",
              "      <th>0</th>\n",
              "      <th>1</th>\n",
              "      <th>2</th>\n",
              "    </tr>\n",
              "  </thead>\n",
              "  <tbody>\n",
              "    <tr>\n",
              "      <th>0</th>\n",
              "      <td>東京スカイツリー</td>\n",
              "      <td>カスタム名詞</td>\n",
              "      <td>トウキョウスカイツリー</td>\n",
              "    </tr>\n",
              "    <tr>\n",
              "      <th>1</th>\n",
              "      <td>東武スカイツリーライン</td>\n",
              "      <td>カスタム名詞</td>\n",
              "      <td>トウブスカイツリーライン</td>\n",
              "    </tr>\n",
              "    <tr>\n",
              "      <th>2</th>\n",
              "      <td>とうきょうスカイツリー駅</td>\n",
              "      <td>カスタム名詞</td>\n",
              "      <td>トウキョウスカイツリーエキ</td>\n",
              "    </tr>\n",
              "  </tbody>\n",
              "</table>\n",
              "</div>"
            ],
            "text/plain": [
              "              0       1              2\n",
              "0      東京スカイツリー  カスタム名詞    トウキョウスカイツリー\n",
              "1   東武スカイツリーライン  カスタム名詞   トウブスカイツリーライン\n",
              "2  とうきょうスカイツリー駅  カスタム名詞  トウキョウスカイツリーエキ"
            ]
          },
          "metadata": {
            "tags": []
          }
        }
      ]
    },
    {
      "cell_type": "code",
      "metadata": {
        "id": "7N9lYIobCd62"
      },
      "source": [
        "from janome.tokenizer import Tokenizer"
      ],
      "execution_count": null,
      "outputs": []
    },
    {
      "cell_type": "markdown",
      "metadata": {
        "id": "WQupm73rK5ac"
      },
      "source": [
        "## ユーザー辞書なし"
      ]
    },
    {
      "cell_type": "code",
      "metadata": {
        "colab": {
          "base_uri": "https://localhost:8080/"
        },
        "id": "18sJ1ogbDWLX",
        "outputId": "2af6ecd2-9b78-4245-8674-951385c57324"
      },
      "source": [
        "t = Tokenizer()\n",
        "for token in t.tokenize(u'東京スカイツリーへのお越しは、東武スカイツリーライン「とうきょうスカイツリー駅」が便 利です。'):\n",
        "    print(token)"
      ],
      "execution_count": null,
      "outputs": [
        {
          "output_type": "stream",
          "text": [
            "東京\t名詞,固有名詞,地域,一般,*,*,東京,トウキョウ,トーキョー\n",
            "スカイ\t名詞,一般,*,*,*,*,スカイ,スカイ,スカイ\n",
            "ツリー\t名詞,一般,*,*,*,*,ツリー,ツリー,ツリー\n",
            "へ\t助詞,格助詞,一般,*,*,*,へ,ヘ,エ\n",
            "の\t助詞,連体化,*,*,*,*,の,ノ,ノ\n",
            "お越し\t名詞,一般,*,*,*,*,お越し,オコシ,オコシ\n",
            "は\t助詞,係助詞,*,*,*,*,は,ハ,ワ\n",
            "、\t記号,読点,*,*,*,*,、,、,、\n",
            "東武\t名詞,固有名詞,組織,*,*,*,東武,トウブ,トーブ\n",
            "スカイツリーライン\t名詞,一般,*,*,*,*,スカイツリーライン,*,*\n",
            "「\t記号,括弧開,*,*,*,*,「,「,「\n",
            "とう\t副詞,助詞類接続,*,*,*,*,とう,トウ,トウ\n",
            "きょう\t名詞,副詞可能,*,*,*,*,きょう,キョウ,キョー\n",
            "スカイ\t名詞,一般,*,*,*,*,スカイ,スカイ,スカイ\n",
            "ツリー\t名詞,一般,*,*,*,*,ツリー,ツリー,ツリー\n",
            "駅\t名詞,接尾,地域,*,*,*,駅,エキ,エキ\n",
            "」\t記号,括弧閉,*,*,*,*,」,」,」\n",
            "が\t助詞,格助詞,一般,*,*,*,が,ガ,ガ\n",
            "便\t名詞,一般,*,*,*,*,便,ビン,ビン\n",
            " \t記号,空白,*,*,*,*, ,*,*\n",
            "利\t名詞,一般,*,*,*,*,利,リ,リ\n",
            "です\t助動詞,*,*,*,特殊・デス,基本形,です,デス,デス\n",
            "。\t記号,句点,*,*,*,*,。,。,。\n"
          ],
          "name": "stdout"
        }
      ]
    },
    {
      "cell_type": "markdown",
      "metadata": {
        "id": "y3UGvZ3eK8j8"
      },
      "source": [
        "## ユーザー辞書あり"
      ]
    },
    {
      "cell_type": "code",
      "metadata": {
        "colab": {
          "base_uri": "https://localhost:8080/"
        },
        "id": "DqJf0ROWDW0t",
        "outputId": "a6cb4b7d-2138-4af5-ebd3-b16f33f7ad1e"
      },
      "source": [
        "t = Tokenizer(\"/content/user_dictionary.csv\", udic_type=\"simpledic\", udic_enc=\"utf8\")\n",
        "for token in t.tokenize(u'東京スカイツリーへのお越しは、東武スカイツリーライン「とうきょうスカイツリー駅」が便 利です。'):\n",
        "    print(token)"
      ],
      "execution_count": null,
      "outputs": [
        {
          "output_type": "stream",
          "text": [
            "東京スカイツリー\tカスタム名詞,*,*,*,*,*,東京スカイツリー,トウキョウスカイツリー,トウキョウスカイツリー\n",
            "へ\t助詞,格助詞,一般,*,*,*,へ,ヘ,エ\n",
            "の\t助詞,連体化,*,*,*,*,の,ノ,ノ\n",
            "お越し\t名詞,一般,*,*,*,*,お越し,オコシ,オコシ\n",
            "は\t助詞,係助詞,*,*,*,*,は,ハ,ワ\n",
            "、\t記号,読点,*,*,*,*,、,、,、\n",
            "東武スカイツリーライン\tカスタム名詞,*,*,*,*,*,東武スカイツリーライン,トウブスカイツリーライン,トウブスカイツリーライン\n",
            "「\t記号,括弧開,*,*,*,*,「,「,「\n",
            "とうきょうスカイツリー駅\tカスタム名詞,*,*,*,*,*,とうきょうスカイツリー駅,トウキョウスカイツリーエキ,トウキョウスカイツリーエキ\n",
            "」\t記号,括弧閉,*,*,*,*,」,」,」\n",
            "が\t助詞,格助詞,一般,*,*,*,が,ガ,ガ\n",
            "便\t名詞,一般,*,*,*,*,便,ビン,ビン\n",
            " \t記号,空白,*,*,*,*, ,*,*\n",
            "利\t名詞,一般,*,*,*,*,利,リ,リ\n",
            "です\t助動詞,*,*,*,特殊・デス,基本形,です,デス,デス\n",
            "。\t記号,句点,*,*,*,*,。,。,。\n"
          ],
          "name": "stdout"
        }
      ]
    }
  ]
}